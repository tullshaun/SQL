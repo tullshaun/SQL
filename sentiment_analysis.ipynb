{
 "cells": [
  {
   "cell_type": "code",
   "execution_count": 2,
   "metadata": {},
   "outputs": [
    {
     "name": "stdout",
     "output_type": "stream",
     "text": [
      "correct labels : positive positive positive negative negative negative\n",
      "prediction     : negative positive positive negative positive negative\n",
      "proba positive : 0.497926 0.555813 0.561923 0.497926 0.555813 0.434459\n"
     ]
    }
   ],
   "source": [
    "from nltk.classify import NaiveBayesClassifier\n",
    "from sklearn.feature_extraction.text import TfidfVectorizer\n",
    "from sklearn.linear_model import LogisticRegression\n",
    "\n",
    "positive_tweets = [('Flowers smell good', 'positive'),\n",
    "                   ('Birds are beautiful', 'positive'),\n",
    "                   ('This is going to be a great day', 'positive'),\n",
    "                   ('I love my bff', 'positive'),\n",
    "                   ('This restaurant has great food', 'positive')]\n",
    "\n",
    "negative_tweets = [('Onions smell bad', 'negative'),\n",
    "                   ('Garbage is ugly', 'negative'),\n",
    "                   ('Nothing has gone right today', 'negative'),\n",
    "                   ('I hate my boss', 'negative'),\n",
    "                   ('This restaurant has terrible food', 'negative')]\n",
    "\n",
    "test_tweets = [('Singing makes me happy', 'positive'),\n",
    "               ('Blue skies are nice', 'positive'),\n",
    "               ('I love spring', 'positive'),\n",
    "               ('Coughing makes me sad', 'negative'),\n",
    "               ('Cloudy skies are depressing', 'negative'),\n",
    "               ('I hate winter', 'negative')]\n",
    "\n",
    "X_train, y_train = zip(*positive_tweets+negative_tweets)\n",
    "\n",
    "X_test, y_test = zip(*test_tweets)\n",
    "\n",
    "tfidfvec = TfidfVectorizer(lowercase=True)\n",
    "vectorized = tfidfvec.fit_transform(X_train)\n",
    "\n",
    "sentiment_classifier = LogisticRegression()\n",
    "sentiment_classifier.fit(vectorized,y_train)\n",
    "\n",
    "vectorized_test = tfidfvec.transform(X_test)\n",
    "prediction = list(sentiment_classifier.predict(vectorized_test))\n",
    "probabilities = list(sentiment_classifier.predict_proba(vectorized_test)[:,1])\n",
    "\n",
    "print ('correct labels : %s %s %s %s %s %s' % y_test)\n",
    "print ('prediction     : %s %s %s %s %s %s' % tuple(prediction))\n",
    "print ('proba positive : %0.6f %0.6f %0.6f %0.6f %0.6f %0.6f' % tuple(probabilities))"
   ]
  },
  {
   "cell_type": "code",
   "execution_count": null,
   "metadata": {},
   "outputs": [],
   "source": []
  }
 ],
 "metadata": {
  "kernelspec": {
   "display_name": "Python 3",
   "language": "python",
   "name": "python3"
  },
  "language_info": {
   "codemirror_mode": {
    "name": "ipython",
    "version": 3
   },
   "file_extension": ".py",
   "mimetype": "text/x-python",
   "name": "python",
   "nbconvert_exporter": "python",
   "pygments_lexer": "ipython3",
   "version": "3.7.0"
  }
 },
 "nbformat": 4,
 "nbformat_minor": 1
}
